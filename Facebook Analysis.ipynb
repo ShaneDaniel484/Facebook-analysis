{
 "cells": [
  {
   "cell_type": "code",
   "execution_count": null,
   "id": "bfd51710",
   "metadata": {},
   "outputs": [],
   "source": [
    "import pandas as pd\n",
    "import numpy as np\n",
    "import matplotlib.pyplot as plt\n",
    "import seaborn as sns"
   ]
  },
  {
   "cell_type": "code",
   "execution_count": null,
   "id": "cc7869e5",
   "metadata": {},
   "outputs": [],
   "source": [
    "df=pd.read_csv(\"C:\\\\Users\\\\aaron\\\\Downloads\\\\jupyter files\\\\facebook_analysis.csv\")"
   ]
  },
  {
   "cell_type": "code",
   "execution_count": null,
   "id": "ed1d90bf",
   "metadata": {},
   "outputs": [],
   "source": [
    "df.head()"
   ]
  },
  {
   "cell_type": "code",
   "execution_count": null,
   "id": "fdc6e8b1",
   "metadata": {},
   "outputs": [],
   "source": [
    "df.tail()"
   ]
  },
  {
   "cell_type": "markdown",
   "id": "407bc6f6",
   "metadata": {},
   "source": [
    "# Data Cleaning"
   ]
  },
  {
   "cell_type": "code",
   "execution_count": null,
   "id": "cd78e988",
   "metadata": {},
   "outputs": [],
   "source": [
    "df.isnull().sum()"
   ]
  },
  {
   "cell_type": "code",
   "execution_count": null,
   "id": "9c2d4eb2",
   "metadata": {},
   "outputs": [],
   "source": [
    "df.dropna(inplace=True)"
   ]
  },
  {
   "cell_type": "code",
   "execution_count": null,
   "id": "330b3aeb",
   "metadata": {},
   "outputs": [],
   "source": [
    "df.isnull().sum()"
   ]
  },
  {
   "cell_type": "code",
   "execution_count": null,
   "id": "a6e4b795",
   "metadata": {},
   "outputs": [],
   "source": [
    "df.dtypes"
   ]
  },
  {
   "cell_type": "code",
   "execution_count": null,
   "id": "5edfa57a",
   "metadata": {},
   "outputs": [],
   "source": [
    "df[\"tenure\"]=df[\"tenure\"].astype(\"int\")"
   ]
  },
  {
   "cell_type": "markdown",
   "id": "36fedd76",
   "metadata": {},
   "source": [
    "# Age group analysis"
   ]
  },
  {
   "cell_type": "code",
   "execution_count": null,
   "id": "9b53cf33",
   "metadata": {},
   "outputs": [],
   "source": [
    "a=min(df[\"age\"])\n",
    "b=max(df[\"age\"])\n",
    "print(f\"The minimum age in the dataset is {a}, The maximum age in the dataset is {b}\")"
   ]
  },
  {
   "cell_type": "code",
   "execution_count": null,
   "id": "52012212",
   "metadata": {},
   "outputs": [],
   "source": [
    "#we are limitting our age to 100\n",
    "dropit=df[df.age>100]"
   ]
  },
  {
   "cell_type": "code",
   "execution_count": null,
   "id": "439dc184",
   "metadata": {},
   "outputs": [],
   "source": [
    "df.drop(df[df['age']>100].index,inplace=True)"
   ]
  },
  {
   "cell_type": "code",
   "execution_count": null,
   "id": "852c497e",
   "metadata": {},
   "outputs": [],
   "source": [
    "a=min(df[\"age\"])\n",
    "b=max(df[\"age\"])\n",
    "print(f\"The minimum age in the dataset is {a}, The maximum age in the dataset is {b}\")"
   ]
  },
  {
   "cell_type": "code",
   "execution_count": null,
   "id": "fd189581",
   "metadata": {},
   "outputs": [],
   "source": [
    "labels=[\"10-20\",\"21-30\",\"31-40\",\"41-50\",\"51-60\",\"61-70\",\"71-80\",\"81-90\",\"91-100\"]\n",
    "df[\"age_group\"]=pd.cut(df[\"age\"],bins=np.arange(10,101,10),labels=labels,right=True) \n",
    "df.head()"
   ]
  },
  {
   "cell_type": "code",
   "execution_count": null,
   "id": "87bce182",
   "metadata": {},
   "outputs": [],
   "source": [
    "#Age vs count\n",
    "plt.figure(figsize=(10,8))\n",
    "sns.histplot(df,x=\"age_group\")\n",
    "plt.show()"
   ]
  },
  {
   "cell_type": "markdown",
   "id": "2155c9f9",
   "metadata": {},
   "source": [
    "# Gender wise analysis"
   ]
  },
  {
   "cell_type": "code",
   "execution_count": null,
   "id": "26a02e05",
   "metadata": {},
   "outputs": [],
   "source": [
    "gender=df[\"gender\"].value_counts()\n",
    "print(f\"The gender count is\\n{gender}\")"
   ]
  },
  {
   "cell_type": "code",
   "execution_count": null,
   "id": "f5c2fe3e",
   "metadata": {},
   "outputs": [],
   "source": [
    "plt.figure(figsize=(10,8))\n",
    "plt.pie(gender,labels=[\"Male\",\"Female\"],autopct=\"%1.1f%%\")\n",
    "plt.show()"
   ]
  },
  {
   "cell_type": "markdown",
   "id": "27bb26be",
   "metadata": {},
   "source": [
    "## Likes_given vs Gender"
   ]
  },
  {
   "cell_type": "code",
   "execution_count": null,
   "id": "adb68a00",
   "metadata": {},
   "outputs": [],
   "source": [
    "plt.figure(figsize=(6,6))\n",
    "sns.barplot(data=df,x=\"gender\",y=\"likes\")\n",
    "plt.show()"
   ]
  },
  {
   "cell_type": "markdown",
   "id": "958a5e84",
   "metadata": {},
   "source": [
    "## Likes_received vs Gender"
   ]
  },
  {
   "cell_type": "code",
   "execution_count": null,
   "id": "6f72c68e",
   "metadata": {},
   "outputs": [],
   "source": [
    "plt.figure(figsize=(6,6))\n",
    "sns.barplot(data=df,x=\"gender\",y=\"likes_received\")\n",
    "plt.show()"
   ]
  },
  {
   "cell_type": "markdown",
   "id": "5e2d765e",
   "metadata": {},
   "source": [
    "## Friend count vs Gender"
   ]
  },
  {
   "cell_type": "code",
   "execution_count": null,
   "id": "9b6e302a",
   "metadata": {},
   "outputs": [],
   "source": [
    "plt.figure(figsize=(6,6))\n",
    "sns.barplot(data=df,x=\"gender\",y=\"friend_count\")\n",
    "plt.show()"
   ]
  },
  {
   "cell_type": "markdown",
   "id": "dff7994c",
   "metadata": {},
   "source": [
    "## Friendship initiated VS Gender"
   ]
  },
  {
   "cell_type": "code",
   "execution_count": null,
   "id": "12b9b2e7",
   "metadata": {},
   "outputs": [],
   "source": [
    "plt.figure(figsize=(6,6))\n",
    "sns.barplot(data=df,x=\"gender\",y=\"friendships_initiated\")\n",
    "plt.show()"
   ]
  },
  {
   "cell_type": "markdown",
   "id": "bc17a51d",
   "metadata": {},
   "source": [
    "# Tenure analysis"
   ]
  },
  {
   "cell_type": "code",
   "execution_count": null,
   "id": "627c4308",
   "metadata": {},
   "outputs": [],
   "source": [
    "labels=[\"0-1 year\",\"1-2 years\",\"2-3 years\",\"3-4 years\",\"4-5 years\",\"5-6 years\",\"6-7 years\",\"7-8 years\",\"8-9 years\"]\n",
    "df[\"year_group\"]=pd.cut(df[\"tenure\"],bins=np.arange(-1,3285,365),labels=labels)"
   ]
  },
  {
   "cell_type": "code",
   "execution_count": null,
   "id": "e77205d9",
   "metadata": {},
   "outputs": [],
   "source": [
    "df.head()"
   ]
  },
  {
   "cell_type": "code",
   "execution_count": null,
   "id": "e208dda8",
   "metadata": {},
   "outputs": [],
   "source": [
    "plt.figure(figsize=(10,8))\n",
    "sns.histplot(data=df,x=\"year_group\")\n",
    "plt.show()"
   ]
  },
  {
   "cell_type": "code",
   "execution_count": null,
   "id": "7ef76527",
   "metadata": {},
   "outputs": [],
   "source": [
    "inactive_users=df.query(\"friend_count==0 and friendships_initiated==0 and likes==0\")\n",
    "plt.figure9figsize=(10,8)\n",
    "sns.histplot(data=inactive_users,x=\"gender\")\n",
    "plt.show()"
   ]
  },
  {
   "cell_type": "markdown",
   "id": "ab230d30",
   "metadata": {},
   "source": [
    "# Web users and mobile user analysis"
   ]
  },
  {
   "cell_type": "code",
   "execution_count": null,
   "id": "20b05d50",
   "metadata": {},
   "outputs": [],
   "source": [
    "df.head()"
   ]
  },
  {
   "cell_type": "code",
   "execution_count": null,
   "id": "85e2ee8f",
   "metadata": {},
   "outputs": [],
   "source": [
    "active_users=df.query(\"friendships_initiated!=0 and likes!=0\").reset_index(drop=True)\n",
    "active_users[\"use_method\"]=(active_users[\"mobile_likes\"]>=active_users[\"www_likes\"]).replace({True:\"mobile\",False:\"web\"})"
   ]
  },
  {
   "cell_type": "code",
   "execution_count": null,
   "id": "76c21991",
   "metadata": {},
   "outputs": [],
   "source": [
    "plt.figure(figsize=(10,8))\n",
    "plt.pie(active_users[\"use_method\"].value_counts(),labels=[\"Mobile\",\"Web\"],autopct=\"%1.1f%%\")\n",
    "plt.show()"
   ]
  },
  {
   "cell_type": "markdown",
   "id": "5ff47cbd",
   "metadata": {},
   "source": [
    "# Activity per day"
   ]
  },
  {
   "cell_type": "code",
   "execution_count": null,
   "id": "b7fa900b",
   "metadata": {},
   "outputs": [],
   "source": [
    "# age group vs activity per day\n",
    "df['activity_per_day'] = (df['friendships_initiated']/df['tenure'] + df['likes']/df['tenure']).replace([np.nan, np.inf, -np.inf], 0)\n",
    "plt.subplots(figsize = (10,8))\n",
    "sns.barplot(data = df,x = 'age_group',y = 'activity_per_day')\n",
    "plt.show()"
   ]
  },
  {
   "cell_type": "code",
   "execution_count": null,
   "id": "04a6b0bb",
   "metadata": {},
   "outputs": [],
   "source": [
    "plt.figure(figsize=(10,8))\n",
    "sns.barplot(data=df,x=\"gender\",y=\"activity_per_day\")\n",
    "plt.show()"
   ]
  },
  {
   "cell_type": "markdown",
   "id": "de388b72",
   "metadata": {},
   "source": [
    "# HEATMAP"
   ]
  },
  {
   "cell_type": "code",
   "execution_count": null,
   "id": "eb9b8761",
   "metadata": {},
   "outputs": [],
   "source": [
    "df.corr()"
   ]
  },
  {
   "cell_type": "code",
   "execution_count": null,
   "id": "ad180190",
   "metadata": {},
   "outputs": [],
   "source": [
    "df.drop([\"userid\",\"dob_day\",\"dob_year\",\"dob_month\"],axis=1,inplace=True)"
   ]
  },
  {
   "cell_type": "code",
   "execution_count": null,
   "id": "6455b7fe",
   "metadata": {},
   "outputs": [],
   "source": [
    "df.corr()"
   ]
  },
  {
   "cell_type": "code",
   "execution_count": null,
   "id": "c3413796",
   "metadata": {},
   "outputs": [],
   "source": [
    "plt.figure(figsize=(15,15))\n",
    "sns.heatmap(df.corr(),annot=True)\n",
    "plt.show()"
   ]
  },
  {
   "cell_type": "code",
   "execution_count": null,
   "id": "cf4c3c75",
   "metadata": {},
   "outputs": [],
   "source": []
  }
 ],
 "metadata": {
  "kernelspec": {
   "display_name": "Python 3 (ipykernel)",
   "language": "python",
   "name": "python3"
  },
  "language_info": {
   "codemirror_mode": {
    "name": "ipython",
    "version": 3
   },
   "file_extension": ".py",
   "mimetype": "text/x-python",
   "name": "python",
   "nbconvert_exporter": "python",
   "pygments_lexer": "ipython3",
   "version": "3.9.7"
  }
 },
 "nbformat": 4,
 "nbformat_minor": 5
}
